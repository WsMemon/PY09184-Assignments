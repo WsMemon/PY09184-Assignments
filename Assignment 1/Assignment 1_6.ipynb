{
 "cells": [
  {
   "cell_type": "code",
   "execution_count": 3,
   "metadata": {},
   "outputs": [
    {
     "name": "stdout",
     "output_type": "stream",
     "text": [
      "Enter 1st Number : 3.4\n",
      "Enter 2ns Number : 2.6\n",
      "Addition: 6.0\n"
     ]
    }
   ],
   "source": [
    "\"\"\"\n",
    "6.\tWrite a python program which takes two inputs from user and print them Addition\n",
    "\n",
    "Extra Work: User can also add floating numbers.\n",
    "\"\"\"\n",
    "Num1 = float( input (\"Enter 1st Number : \") )\n",
    "Num2 = float ( input(\"Enter 2ns Number : \") )\n",
    "print ( \"Addition: \" + str(Num1 + Num2) )"
   ]
  },
  {
   "cell_type": "code",
   "execution_count": null,
   "metadata": {},
   "outputs": [],
   "source": []
  },
  {
   "cell_type": "code",
   "execution_count": null,
   "metadata": {},
   "outputs": [],
   "source": []
  }
 ],
 "metadata": {
  "kernelspec": {
   "display_name": "Python 3",
   "language": "python",
   "name": "python3"
  },
  "language_info": {
   "codemirror_mode": {
    "name": "ipython",
    "version": 3
   },
   "file_extension": ".py",
   "mimetype": "text/x-python",
   "name": "python",
   "nbconvert_exporter": "python",
   "pygments_lexer": "ipython3",
   "version": "3.7.4"
  }
 },
 "nbformat": 4,
 "nbformat_minor": 2
}
