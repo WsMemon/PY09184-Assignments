{
 "cells": [
  {
   "cell_type": "code",
   "execution_count": 2,
   "metadata": {},
   "outputs": [
    {
     "name": "stdout",
     "output_type": "stream",
     "text": [
      "[12, 14, 20]\n"
     ]
    }
   ],
   "source": [
    "\"\"\"\n",
    "5. Write a program to identify duplicate values from list\n",
    "\"\"\"\n",
    "my_list = [12, 14, 10, 20, 15, 12, 20, 14] \n",
    "duplicate_match = []\n",
    "\n",
    "for i in range(len(my_list)): \n",
    "    k = i + 1\n",
    "    for j in range(k, len(my_list)): \n",
    "        if my_list[i] == my_list[j] and my_list[i] not in duplicate_match: \n",
    "            duplicate_match.append(my_list[i])\n",
    "\n",
    "print(duplicate_match)"
   ]
  },
  {
   "cell_type": "code",
   "execution_count": null,
   "metadata": {},
   "outputs": [],
   "source": []
  }
 ],
 "metadata": {
  "kernelspec": {
   "display_name": "Python 3",
   "language": "python",
   "name": "python3"
  },
  "language_info": {
   "codemirror_mode": {
    "name": "ipython",
    "version": 3
   },
   "file_extension": ".py",
   "mimetype": "text/x-python",
   "name": "python",
   "nbconvert_exporter": "python",
   "pygments_lexer": "ipython3",
   "version": "3.7.4"
  }
 },
 "nbformat": 4,
 "nbformat_minor": 2
}
