{
 "cells": [
  {
   "cell_type": "code",
   "execution_count": 2,
   "metadata": {},
   "outputs": [
    {
     "name": "stdout",
     "output_type": "stream",
     "text": [
      "Enter you city name Karachi\n",
      "Your city is Clean\n"
     ]
    }
   ],
   "source": [
    "\"\"\"\n",
    "In between Class Assignment\n",
    "\"\"\"\n",
    "clean_cities = ['Hyderabad', 'Karachi', 'Nawabshah', 'Dadu', 'Badin']\n",
    "\n",
    "in_city = input(\"Enter you city name \")\n",
    "\n",
    "if( in_city in clean_cities):\n",
    "        print(\"Your city is Clean\")\n",
    "else:\n",
    "        print(\"Your city is not Clean\")"
   ]
  },
  {
   "cell_type": "code",
   "execution_count": null,
   "metadata": {},
   "outputs": [],
   "source": []
  },
  {
   "cell_type": "code",
   "execution_count": null,
   "metadata": {},
   "outputs": [],
   "source": []
  }
 ],
 "metadata": {
  "kernelspec": {
   "display_name": "Python 3",
   "language": "python",
   "name": "python3"
  },
  "language_info": {
   "codemirror_mode": {
    "name": "ipython",
    "version": 3
   },
   "file_extension": ".py",
   "mimetype": "text/x-python",
   "name": "python",
   "nbconvert_exporter": "python",
   "pygments_lexer": "ipython3",
   "version": "3.7.4"
  }
 },
 "nbformat": 4,
 "nbformat_minor": 2
}
