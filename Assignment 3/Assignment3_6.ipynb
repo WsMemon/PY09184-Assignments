{
 "cells": [
  {
   "cell_type": "code",
   "execution_count": 16,
   "metadata": {},
   "outputs": [
    {
     "name": "stdout",
     "output_type": "stream",
     "text": [
      "Find key from dictionary type exit for exit.\n",
      "Enter key to find a\n",
      "Key is present in the dictionary\n",
      "Enter key to find b\n",
      "Key is present in the dictionary\n",
      "Enter key to find b\n",
      "Key is present in the dictionary\n",
      "Enter key to find z\n",
      "Key is not present in the dictionary\n",
      "Enter key to find exit\n"
     ]
    }
   ],
   "source": [
    "\"\"\"\n",
    "6. Write a Python script to check if a given key already exists in a dictionary\n",
    "\n",
    "Extra code: Program is runing until user enter he exit word\n",
    "\"\"\"\n",
    "dictionary = {1: 10, 'a':'Waqas', 2: 20,'b':'Memon', 3: 30, 'c':'Ahmed', 4: 40, 'd':'Ali', 5: 50, 6: 60}\n",
    "\n",
    "print('Find key from dictionary type exit for exit.')\n",
    "\n",
    "while True:\n",
    "    key = input(\"Enter key to find \")\n",
    "    if key=='exit':\n",
    "        break\n",
    "    \n",
    "    if key.isnumeric() : \n",
    "        key = int(key)\n",
    "\n",
    "    if key in dictionary:\n",
    "        print('Key is present in the dictionary')\n",
    "    else:\n",
    "        print('Key is not present in the dictionary')"
   ]
  },
  {
   "cell_type": "code",
   "execution_count": null,
   "metadata": {},
   "outputs": [],
   "source": []
  },
  {
   "cell_type": "code",
   "execution_count": null,
   "metadata": {},
   "outputs": [],
   "source": []
  }
 ],
 "metadata": {
  "kernelspec": {
   "display_name": "Python 3",
   "language": "python",
   "name": "python3"
  },
  "language_info": {
   "codemirror_mode": {
    "name": "ipython",
    "version": 3
   },
   "file_extension": ".py",
   "mimetype": "text/x-python",
   "name": "python",
   "nbconvert_exporter": "python",
   "pygments_lexer": "ipython3",
   "version": "3.7.4"
  }
 },
 "nbformat": 4,
 "nbformat_minor": 2
}
