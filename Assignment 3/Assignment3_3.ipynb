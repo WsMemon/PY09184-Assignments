{
 "cells": [
  {
   "cell_type": "code",
   "execution_count": 12,
   "metadata": {},
   "outputs": [
    {
     "name": "stdout",
     "output_type": "stream",
     "text": [
      "Append Value using list array\n",
      "['waqas', 20]\n",
      "['waqas', 20, 30]\n",
      "Append Value using list array\n",
      "{0: 'waqas', 1: 20}\n",
      "{0: 'waqas', 1: 20, 2: 30}\n"
     ]
    }
   ],
   "source": [
    "\"\"\"\n",
    "3. Write a Python script to add a key to a dictionary\n",
    "\"\"\"\n",
    "print(\"Append Value using list array\")\n",
    "dictionary = ['waqas', 20]\n",
    "print(dictionary)\n",
    "dictionary.append(30)\n",
    "print(dictionary)\n",
    "\n",
    "print(\"Append Value using Object\")\n",
    "dictionary1 = {0:'waqas', 1:20}\n",
    "print(dictionary1)\n",
    "dictionary1.update({2:30})\n",
    "print(dictionary1)"
   ]
  },
  {
   "cell_type": "code",
   "execution_count": null,
   "metadata": {},
   "outputs": [],
   "source": []
  }
 ],
 "metadata": {
  "kernelspec": {
   "display_name": "Python 3",
   "language": "python",
   "name": "python3"
  },
  "language_info": {
   "codemirror_mode": {
    "name": "ipython",
    "version": 3
   },
   "file_extension": ".py",
   "mimetype": "text/x-python",
   "name": "python",
   "nbconvert_exporter": "python",
   "pygments_lexer": "ipython3",
   "version": "3.7.4"
  }
 },
 "nbformat": 4,
 "nbformat_minor": 2
}
