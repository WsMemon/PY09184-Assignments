{
 "cells": [
  {
   "cell_type": "code",
   "execution_count": 3,
   "metadata": {},
   "outputs": [
    {
     "name": "stdout",
     "output_type": "stream",
     "text": [
      "Enter the Value1 4\n",
      "Enter the Value2 5\n",
      "Enter the Operator **\n",
      "Answer =  1024\n"
     ]
    }
   ],
   "source": [
    "\"\"\"\n",
    "1. Make a calculator using Python with addition , subtraction , multiplication ,\n",
    "division and power.\n",
    "\"\"\"\n",
    "value1 = int(input(\"Enter the Value1 \"))\n",
    "value2 = int(input(\"Enter the Value2 \"))\n",
    "operator =  input(\"Enter the Operator \")\n",
    "\n",
    "if operator == \"+\":\n",
    "    print(\"Answer = \", (value1+value2))\n",
    "elif operator == \"-\":\n",
    "    print(\"Answer = \", (value1-value2))\n",
    "elif operator == \"*\":\n",
    "    print(\"Answer = \", (value1*value2))\n",
    "elif operator == \"/\":\n",
    "    print(\"Answer = \", (value1/value2))\n",
    "elif operator == \"**\":\n",
    "    print(\"Answer = \", (value1**value2))\n",
    "else:\n",
    "    print(\"Operator error\")"
   ]
  },
  {
   "cell_type": "code",
   "execution_count": null,
   "metadata": {},
   "outputs": [],
   "source": []
  }
 ],
 "metadata": {
  "kernelspec": {
   "display_name": "Python 3",
   "language": "python",
   "name": "python3"
  },
  "language_info": {
   "codemirror_mode": {
    "name": "ipython",
    "version": 3
   },
   "file_extension": ".py",
   "mimetype": "text/x-python",
   "name": "python",
   "nbconvert_exporter": "python",
   "pygments_lexer": "ipython3",
   "version": "3.7.4"
  }
 },
 "nbformat": 4,
 "nbformat_minor": 2
}
