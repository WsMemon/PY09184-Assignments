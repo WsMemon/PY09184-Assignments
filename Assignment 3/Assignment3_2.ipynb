{
 "cells": [
  {
   "cell_type": "code",
   "execution_count": 8,
   "metadata": {},
   "outputs": [
    {
     "name": "stdout",
     "output_type": "stream",
     "text": [
      "There is a numeric value in list.\n"
     ]
    }
   ],
   "source": [
    "\"\"\"\n",
    "2. Write a program to check if there is any numeric value in list using for loop\n",
    "\"\"\"\n",
    "my_list = [\"waqas\", \"ahmed\", '2', \"memon\", \"ali\"]\n",
    "is_num = False\n",
    "for val in my_list:\n",
    "    if( val.isnumeric() ):\n",
    "        is_num = True\n",
    "        break\n",
    "\n",
    "if(is_num):\n",
    "    print(\"There is a numeric value in list.\")\n",
    "else:\n",
    "    print(\"There is not a numeric value in list.\")\n"
   ]
  },
  {
   "cell_type": "code",
   "execution_count": null,
   "metadata": {},
   "outputs": [],
   "source": []
  }
 ],
 "metadata": {
  "kernelspec": {
   "display_name": "Python 3",
   "language": "python",
   "name": "python3"
  },
  "language_info": {
   "codemirror_mode": {
    "name": "ipython",
    "version": 3
   },
   "file_extension": ".py",
   "mimetype": "text/x-python",
   "name": "python",
   "nbconvert_exporter": "python",
   "pygments_lexer": "ipython3",
   "version": "3.7.4"
  }
 },
 "nbformat": 4,
 "nbformat_minor": 2
}
