{
 "cells": [
  {
   "cell_type": "code",
   "execution_count": 9,
   "metadata": {},
   "outputs": [
    {
     "name": "stdout",
     "output_type": "stream",
     "text": [
      "Largest Number is = 124\n"
     ]
    }
   ],
   "source": [
    "\"\"\"\n",
    "5. Write a Python program to get the largest number from a numeric list.\n",
    "\"\"\"\n",
    "mylist = [34,65,124,64,6,3]\n",
    "large_number = mylist[0]\n",
    "for val in mylist:\n",
    "    if val>large_number:\n",
    "        large_number = val;\n",
    "\n",
    "print('Largest Number is = {0}'. format(large_number))"
   ]
  },
  {
   "cell_type": "code",
   "execution_count": null,
   "metadata": {},
   "outputs": [],
   "source": []
  }
 ],
 "metadata": {
  "kernelspec": {
   "display_name": "Python 3",
   "language": "python",
   "name": "python3"
  },
  "language_info": {
   "codemirror_mode": {
    "name": "ipython",
    "version": 3
   },
   "file_extension": ".py",
   "mimetype": "text/x-python",
   "name": "python",
   "nbconvert_exporter": "python",
   "pygments_lexer": "ipython3",
   "version": "3.7.4"
  }
 },
 "nbformat": 4,
 "nbformat_minor": 2
}
