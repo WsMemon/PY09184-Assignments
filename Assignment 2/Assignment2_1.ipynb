{
 "cells": [
  {
   "cell_type": "code",
   "execution_count": 21,
   "metadata": {},
   "outputs": [
    {
     "name": "stdout",
     "output_type": "stream",
     "text": [
      "Enter Marks of Subject1 = 55\n",
      "Enter Marks of Subject2 = 55\n",
      "Enter Marks of Subject3 = 55\n",
      "Enter Marks of Subject4 = 55\n",
      "Enter Marks of Subject5 = 55\n",
      "The sum of all subjects is 275\n",
      "percentage = 55.0\n",
      "You have D Grade\n"
     ]
    }
   ],
   "source": [
    "\"\"\"\n",
    "1. Write a program which takes 5 inputs from user for different subject’s\n",
    "marks, total it and generate mark sheet using grades ?\n",
    "\"\"\"\n",
    "mark1 = int (input(\"Enter Marks of Subject1 = \"))\n",
    "mark2 = int (input(\"Enter Marks of Subject2 = \"))\n",
    "mark3 = int (input(\"Enter Marks of Subject3 = \"))\n",
    "mark4 = int (input(\"Enter Marks of Subject4 = \"))\n",
    "mark5 = int (input(\"Enter Marks of Subject5 = \"))\n",
    "\n",
    "total = mark1 + mark2 + mark3 + mark4 + mark5\n",
    "print('The sum of all subjects is {0}'.format(total))\n",
    "\n",
    "percentage = float (total*100/500)\n",
    "print('percentage = {0}'.format(percentage))\n",
    "\n",
    "if percentage >= 90:\n",
    "    print(\"You have A1 Grade\")\n",
    "elif percentage>=80 and percentage<90: \n",
    "    print(\"You have A Grade\")\n",
    "elif percentage>=70 and percentage<80:\n",
    "    print(\"You have B Grade\")\n",
    "elif percentage>=60 and percentage<70:\n",
    "    print(\"You have C Grade\")\n",
    "elif percentage>=50 and percentage<60:\n",
    "    print(\"You have D Grade\")\n",
    "else:\n",
    "    print(\"You are Fail.\")\n",
    "\n"
   ]
  },
  {
   "cell_type": "code",
   "execution_count": null,
   "metadata": {},
   "outputs": [],
   "source": []
  }
 ],
 "metadata": {
  "kernelspec": {
   "display_name": "Python 3",
   "language": "python",
   "name": "python3"
  },
  "language_info": {
   "codemirror_mode": {
    "name": "ipython",
    "version": 3
   },
   "file_extension": ".py",
   "mimetype": "text/x-python",
   "name": "python",
   "nbconvert_exporter": "python",
   "pygments_lexer": "ipython3",
   "version": "3.7.4"
  }
 },
 "nbformat": 4,
 "nbformat_minor": 2
}
